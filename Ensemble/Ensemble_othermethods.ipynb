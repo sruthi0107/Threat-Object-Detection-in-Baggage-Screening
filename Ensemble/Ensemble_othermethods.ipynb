{
  "nbformat": 4,
  "nbformat_minor": 0,
  "metadata": {
    "colab": {
      "provenance": []
    },
    "kernelspec": {
      "name": "python3",
      "display_name": "Python 3"
    },
    "language_info": {
      "name": "python"
    }
  },
  "cells": [
    {
      "cell_type": "code",
      "execution_count": 2,
      "metadata": {
        "id": "ixa54roQ5oE3"
      },
      "outputs": [],
      "source": [
        "import tensorflow as tf\n",
        "import numpy as np\n",
        "from PIL import Image\n",
        "import cv2\n",
        "from google.colab.patches import cv2_imshow\n",
        "import matplotlib.pyplot as plt\n",
        "import os"
      ]
    },
    {
      "cell_type": "code",
      "source": [
        "pip install ensemble_boxes"
      ],
      "metadata": {
        "colab": {
          "base_uri": "https://localhost:8080/"
        },
        "id": "hnHurlSUdvDB",
        "outputId": "18614fbf-fc4e-446f-8fe0-0f9a5ab65083"
      },
      "execution_count": 3,
      "outputs": [
        {
          "output_type": "stream",
          "name": "stdout",
          "text": [
            "Looking in indexes: https://pypi.org/simple, https://us-python.pkg.dev/colab-wheels/public/simple/\n",
            "Collecting ensemble_boxes\n",
            "  Downloading ensemble_boxes-1.0.9-py3-none-any.whl (23 kB)\n",
            "Requirement already satisfied: pandas in /usr/local/lib/python3.9/dist-packages (from ensemble_boxes) (1.5.3)\n",
            "Requirement already satisfied: numba in /usr/local/lib/python3.9/dist-packages (from ensemble_boxes) (0.56.4)\n",
            "Requirement already satisfied: numpy in /usr/local/lib/python3.9/dist-packages (from ensemble_boxes) (1.22.4)\n",
            "Requirement already satisfied: setuptools in /usr/local/lib/python3.9/dist-packages (from numba->ensemble_boxes) (67.6.1)\n",
            "Requirement already satisfied: llvmlite<0.40,>=0.39.0dev0 in /usr/local/lib/python3.9/dist-packages (from numba->ensemble_boxes) (0.39.1)\n",
            "Requirement already satisfied: pytz>=2020.1 in /usr/local/lib/python3.9/dist-packages (from pandas->ensemble_boxes) (2022.7.1)\n",
            "Requirement already satisfied: python-dateutil>=2.8.1 in /usr/local/lib/python3.9/dist-packages (from pandas->ensemble_boxes) (2.8.2)\n",
            "Requirement already satisfied: six>=1.5 in /usr/local/lib/python3.9/dist-packages (from python-dateutil>=2.8.1->pandas->ensemble_boxes) (1.16.0)\n",
            "Installing collected packages: ensemble_boxes\n",
            "Successfully installed ensemble_boxes-1.0.9\n"
          ]
        }
      ]
    },
    {
      "cell_type": "code",
      "source": [
        "from google.colab import drive\n",
        "drive.mount('/content/gdrive')"
      ],
      "metadata": {
        "colab": {
          "base_uri": "https://localhost:8080/"
        },
        "id": "BgzVykXk5wnw",
        "outputId": "134849bf-d3e8-4689-f510-c4d1f00d3b49"
      },
      "execution_count": 4,
      "outputs": [
        {
          "output_type": "stream",
          "name": "stdout",
          "text": [
            "Mounted at /content/gdrive\n"
          ]
        }
      ]
    },
    {
      "cell_type": "code",
      "source": [
        "# Load the first object detection model\n",
        "PATH_TO_SAVED_MODEL1=\"/content/gdrive/MyDrive/customTF2/data/inference_graph/saved_model\"\n",
        "model1 = tf.saved_model.load(PATH_TO_SAVED_MODEL1)"
      ],
      "metadata": {
        "id": "s5PzPQlO5yCE"
      },
      "execution_count": 5,
      "outputs": []
    },
    {
      "cell_type": "code",
      "source": [
        "# Load the first object detection model\n",
        "PATH_TO_SAVED_MODEL2=\"/content/gdrive/MyDrive/fasterTF2/data/inference_graph/saved_model\"\n",
        "model2 = tf.saved_model.load(PATH_TO_SAVED_MODEL2)"
      ],
      "metadata": {
        "id": "YlxXx0rm56AR"
      },
      "execution_count": 6,
      "outputs": []
    },
    {
      "cell_type": "code",
      "source": [
        "# set the directory path\n",
        "dir_path = '/content/gdrive/MyDrive/customTF2/test_images/'\n",
        "labels = ['Handgun', 'Knife', 'RazorBlade', 'Shuriken']"
      ],
      "metadata": {
        "id": "bcPbIHLt6BNV"
      },
      "execution_count": 7,
      "outputs": []
    },
    {
      "cell_type": "code",
      "source": [
        "def savevalues(boxes, scores, classes, savepath, H, W, image_path):\n",
        "  detections = []\n",
        "  th = 0.5\n",
        "  # Loop over all detections and draw detection box if confidence is above minimum threshold\n",
        "  for i in range(len(scores)):\n",
        "    if ((scores[i] > th) and (scores[i] <= 1.0)):\n",
        "      # Get bounding box coordinates and draw box\n",
        "      # Interpreter can return coordinates that are outside of image dimensions, need to force them to be within image using max() and min()\n",
        "      ymin = int(max(1,(boxes[i][0] * H)))\n",
        "      xmin = int(max(1,(boxes[i][1] * W)))\n",
        "      ymax = int(min(H,(boxes[i][2] * H)))\n",
        "      xmax = int(min(W,(boxes[i][3] * W)))\n",
        "\n",
        "      # Draw label\n",
        "      object_name = labels[int(classes[i])-1] # Look up object name from \"labels\" array using class index\n",
        "      detections.append([object_name, scores[i], xmin, ymin, xmax, ymax])\n",
        "\n",
        "  # Get filenames and paths\n",
        "  image_fn = os.path.basename(image_path)      \n",
        "  base_fn, ext = os.path.splitext(image_fn)\n",
        "  txt_result_fn = base_fn +'.txt'\n",
        "  txt_savepath = os.path.join(savepath, txt_result_fn)\n",
        "\n",
        "  # Write results to text file\n",
        "  # (Using format defined by https://github.com/Cartucho/mAP, which will make it easy to calculate mAP)\n",
        "  with open(txt_savepath,'w') as f:\n",
        "      for detection in detections:\n",
        "          f.write('%s %.4f %d %d %d %d\\n' % (detection[0], detection[1], detection[2], detection[3], detection[4], detection[5]))"
      ],
      "metadata": {
        "id": "TXwJJ-K_b0aF"
      },
      "execution_count": 8,
      "outputs": []
    },
    {
      "cell_type": "code",
      "source": [
        "# loop through all the files in the directory\n",
        "for filename in os.listdir(dir_path):\n",
        "    # check if the file is an image\n",
        "    if filename.endswith('.png'):\n",
        "        # open the image file using PIL\n",
        "        image_path = os.path.join(dir_path, filename)\n",
        "        image = cv2.imread(image_path)\n",
        "        image_np = np.array(image)\n",
        "\n",
        "        # Create the input tensor\n",
        "        input_tensor = tf.convert_to_tensor(image_np)\n",
        "        input_tensor = tf.expand_dims(input_tensor, axis=0)\n",
        "        input_tensor = tf.image.convert_image_dtype(input_tensor, tf.uint8)\n",
        "\n",
        "        # Make predictions using the first model\n",
        "        outputs1 = model1(input_tensor)\n",
        "        boxes1 = outputs1['detection_boxes'].numpy()[0]\n",
        "        scores1 = outputs1['detection_scores'].numpy()[0]\n",
        "        classes1 = outputs1['detection_classes'].numpy()[0].astype(np.uint8)\n",
        "\n",
        "        # Make predictions using the second model\n",
        "        outputs2 = model2(input_tensor)\n",
        "        boxes2 = outputs2['detection_boxes'].numpy()[0]\n",
        "        scores2 = outputs2['detection_scores'].numpy()[0]\n",
        "        classes2 = outputs2['detection_classes'].numpy()[0].astype(np.uint8)\n",
        "\n",
        "        b1 = []\n",
        "        s1 = []\n",
        "        c1 = []\n",
        "        th = 0.5\n",
        "        for i in range(len(scores1)):\n",
        "          if scores1[i]>th:\n",
        "            b1.append(boxes1[i])\n",
        "            s1.append(scores1[i])\n",
        "            c1.append(classes1[i])\n",
        "        \n",
        "        b2 = []\n",
        "        s2 = []\n",
        "        c2 = []\n",
        "        for i in range(len(scores2)):\n",
        "          if scores2[i]>th:\n",
        "            b2.append(boxes2[i])\n",
        "            s2.append(scores2[i])\n",
        "            c2.append(classes2[i])\n",
        "        \n",
        "        from ensemble_boxes import *\n",
        "        boxes_list = [b1, b2]\n",
        "        scores_list = [s1, s2]\n",
        "        labels_list = [c1, c2]\n",
        "        #weights = [2, 1]\n",
        "\n",
        "        iou_thr = 0.5\n",
        "        skip_box_thr = 0.0001\n",
        "        sigma = 0.1\n",
        "\n",
        "        boxes1, scores1, classes1 = nms(boxes_list, scores_list, labels_list, iou_thr=iou_thr)\n",
        "        boxes2, scores2, classes2 = soft_nms(boxes_list, scores_list, labels_list, iou_thr=iou_thr, sigma=sigma, thresh=skip_box_thr)\n",
        "        boxes3, scores3, classes3 = non_maximum_weighted(boxes_list, scores_list, labels_list, iou_thr=iou_thr, skip_box_thr=skip_box_thr)\n",
        "        boxes4, scores4, classes4 = weighted_boxes_fusion(boxes_list, scores_list, labels_list, iou_thr=iou_thr, skip_box_thr=skip_box_thr)\n",
        "\n",
        "        H, W, _ = image.shape\n",
        "        savevalues(boxes1, scores1, classes1, '/content/gdrive/MyDrive/Ensemble/m1/', H, W, image_path)\n",
        "        savevalues(boxes2, scores2, classes2, '/content/gdrive/MyDrive/Ensemble/m2/', H, W, image_path)\n",
        "        savevalues(boxes3, scores3, classes3, '/content/gdrive/MyDrive/Ensemble/m3/', H, W, image_path)\n",
        "        savevalues(boxes4, scores4, classes4, '/content/gdrive/MyDrive/Ensemble/m4/', H, W, image_path)"
      ],
      "metadata": {
        "id": "mmzUBzdr6aZA"
      },
      "execution_count": 9,
      "outputs": []
    },
    {
      "cell_type": "code",
      "source": [
        "l1 = [1,2,3]\n",
        "l2 = [4,5,6]\n",
        "l = [l1,l2]\n",
        "l"
      ],
      "metadata": {
        "colab": {
          "base_uri": "https://localhost:8080/"
        },
        "id": "mndf6nq0avzC",
        "outputId": "eaacf741-2db2-47b4-f829-779f0173ca83"
      },
      "execution_count": 1,
      "outputs": [
        {
          "output_type": "execute_result",
          "data": {
            "text/plain": [
              "[[1, 2, 3], [4, 5, 6]]"
            ]
          },
          "metadata": {},
          "execution_count": 1
        }
      ]
    }
  ]
}