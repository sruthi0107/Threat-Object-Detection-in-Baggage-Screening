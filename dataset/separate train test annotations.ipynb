{
 "cells": [
  {
   "cell_type": "code",
   "execution_count": 1,
   "id": "f6fadaf5",
   "metadata": {},
   "outputs": [],
   "source": [
    "import os\n",
    "import shutil"
   ]
  },
  {
   "cell_type": "code",
   "execution_count": 16,
   "id": "29597454",
   "metadata": {},
   "outputs": [],
   "source": [
    "annotations_dir = 'D:/Capstone/Dataset/GDXray-YOLO-label-main/VOC2007/Annotations'\n",
    "train_labels_dir = 'D:/Capstone/Dataset/GDXray-YOLO-label-main/VOC2007/train_labels'\n",
    "test_labels_dir = 'D:/Capstone/Dataset/GDXray-YOLO-label-main/VOC2007/test_labels'\n",
    "train_txt_file = 'D:/Capstone/Dataset/GDXray-YOLO-label-main/VOC2007/ImageSets/train.txt'\n",
    "test_txt_file = 'D:/Capstone/Dataset/GDXray-YOLO-label-main/VOC2007/ImageSets/test.txt'\n",
    "\n",
    "# Create the train_labels directory if it doesn't exist\n",
    "#if not os.path.exists(train_labels_dir):\n",
    "    #os.makedirs(train_labels_dir)"
   ]
  },
  {
   "cell_type": "code",
   "execution_count": 17,
   "id": "45116363",
   "metadata": {},
   "outputs": [],
   "source": [
    "# Read the image paths from train.txt\n",
    "with open(train_txt_file, 'r') as f:\n",
    "    train_image_paths = [line.strip() for line in f]\n",
    "with open(test_txt_file, 'r') as f:\n",
    "    test_image_paths = [line.strip() for line in f]"
   ]
  },
  {
   "cell_type": "code",
   "execution_count": 18,
   "id": "c8be9a35",
   "metadata": {},
   "outputs": [],
   "source": [
    "# Copy the corresponding xml files to train_labels directory\n",
    "for image_path in train_image_paths:\n",
    "    # Get the xml file name by replacing the image extension with .xml\n",
    "    xml_file_name = (image_path.split('/')[-1])[:-3]+'xml'\n",
    "    xml_file_path = os.path.join(annotations_dir, xml_file_name)\n",
    "    if os.path.exists(xml_file_path):\n",
    "        shutil.copy2(xml_file_path, train_labels_dir)"
   ]
  },
  {
   "cell_type": "code",
   "execution_count": 19,
   "id": "64a586e1",
   "metadata": {},
   "outputs": [],
   "source": [
    "# Copy the corresponding xml files to train_labels directory\n",
    "for image_path in test_image_paths:\n",
    "    # Get the xml file name by replacing the image extension with .xml\n",
    "    xml_file_name = (image_path.split('/')[-1])[:-3]+'xml'\n",
    "    xml_file_path = os.path.join(annotations_dir, xml_file_name)\n",
    "    if os.path.exists(xml_file_path):\n",
    "        shutil.copy2(xml_file_path, test_labels_dir)"
   ]
  }
 ],
 "metadata": {
  "kernelspec": {
   "display_name": "Python 3 (ipykernel)",
   "language": "python",
   "name": "python3"
  },
  "language_info": {
   "codemirror_mode": {
    "name": "ipython",
    "version": 3
   },
   "file_extension": ".py",
   "mimetype": "text/x-python",
   "name": "python",
   "nbconvert_exporter": "python",
   "pygments_lexer": "ipython3",
   "version": "3.9.12"
  }
 },
 "nbformat": 4,
 "nbformat_minor": 5
}
