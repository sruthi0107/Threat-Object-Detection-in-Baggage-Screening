{
 "cells": [
  {
   "cell_type": "code",
   "execution_count": 1,
   "id": "0b372bff",
   "metadata": {},
   "outputs": [],
   "source": [
    "import fileinput"
   ]
  },
  {
   "cell_type": "code",
   "execution_count": 2,
   "id": "82707a92",
   "metadata": {},
   "outputs": [],
   "source": [
    "with fileinput.input('ImageSets/train.txt', inplace=True) as file:\n",
    "    for line in file:\n",
    "        new_line = line.replace('original_data', 'VOC2007/JPEGImages')\n",
    "        print(new_line, end='')\n",
    "\n",
    "fileinput.close()"
   ]
  },
  {
   "cell_type": "code",
   "execution_count": 3,
   "id": "36de3bac",
   "metadata": {},
   "outputs": [],
   "source": [
    "with fileinput.input('ImageSets/test.txt', inplace=True) as file:\n",
    "    for line in file:\n",
    "        new_line = line.replace('original_data', 'VOC2007/JPEGImages')\n",
    "        print(new_line, end='')\n",
    "\n",
    "fileinput.close()"
   ]
  },
  {
   "cell_type": "code",
   "execution_count": null,
   "id": "4efc2262",
   "metadata": {},
   "outputs": [],
   "source": []
  }
 ],
 "metadata": {
  "kernelspec": {
   "display_name": "Python 3 (ipykernel)",
   "language": "python",
   "name": "python3"
  },
  "language_info": {
   "codemirror_mode": {
    "name": "ipython",
    "version": 3
   },
   "file_extension": ".py",
   "mimetype": "text/x-python",
   "name": "python",
   "nbconvert_exporter": "python",
   "pygments_lexer": "ipython3",
   "version": "3.9.12"
  }
 },
 "nbformat": 4,
 "nbformat_minor": 5
}
