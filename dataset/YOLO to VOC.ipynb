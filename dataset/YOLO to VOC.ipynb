{
 "cells": [
  {
   "cell_type": "code",
   "execution_count": 1,
   "id": "7d7a0aa1",
   "metadata": {},
   "outputs": [],
   "source": [
    "#import the yolo2voc\n",
    "import Yolo2Voc"
   ]
  },
  {
   "cell_type": "code",
   "execution_count": 10,
   "id": "3c1663d7",
   "metadata": {},
   "outputs": [],
   "source": [
    "annotation_path = \"JPEGImages\" #where are the dataset annotations.\n",
    "source = \"GDXRay\" #contains base dataset name.\n",
    "output = \"Annotations\" #where it will be saved to new annotations."
   ]
  },
  {
   "cell_type": "code",
   "execution_count": 11,
   "id": "b1483f9b",
   "metadata": {},
   "outputs": [
    {
     "name": "stdout",
     "output_type": "stream",
     "text": [
      "Loading your dataset....\n"
     ]
    },
    {
     "name": "stderr",
     "output_type": "stream",
     "text": [
      "100%|████████████████████████████████████████| 831/831 [00:00<?, ? file/s]\n"
     ]
    },
    {
     "name": "stdout",
     "output_type": "stream",
     "text": [
      "\n",
      "Please wait for all labels to be processed....\n"
     ]
    },
    {
     "name": "stderr",
     "output_type": "stream",
     "text": [
      "100%|██████████████████████████| 415/415 [00:00<00:00, 436.31 label/s]\n"
     ]
    },
    {
     "data": {
      "text/plain": [
       "<Yolo2Voc.convert.Yolo2Voc at 0x1de1b2cd8e0>"
      ]
     },
     "execution_count": 11,
     "metadata": {},
     "output_type": "execute_result"
    }
   ],
   "source": [
    "Yolo2Voc.convert(annotations_path=annotation_path, source=source, output=output)"
   ]
  }
 ],
 "metadata": {
  "kernelspec": {
   "display_name": "Python 3 (ipykernel)",
   "language": "python",
   "name": "python3"
  },
  "language_info": {
   "codemirror_mode": {
    "name": "ipython",
    "version": 3
   },
   "file_extension": ".py",
   "mimetype": "text/x-python",
   "name": "python",
   "nbconvert_exporter": "python",
   "pygments_lexer": "ipython3",
   "version": "3.9.12"
  }
 },
 "nbformat": 4,
 "nbformat_minor": 5
}
